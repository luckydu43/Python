{
 "cells": [
  {
   "cell_type": "code",
   "execution_count": 43,
   "metadata": {},
   "outputs": [],
   "source": [
    "import numpy as np\n",
    "import pandas as pd"
   ]
  },
  {
   "cell_type": "code",
   "execution_count": 44,
   "metadata": {},
   "outputs": [],
   "source": [
    "s = pd.Series([1,3,5, np.nan, 6, 8])\n",
    "dates = pd.date_range(\"20130101\", periods=6)"
   ]
  },
  {
   "cell_type": "code",
   "execution_count": 45,
   "metadata": {},
   "outputs": [
    {
     "data": {
      "text/plain": [
       "DatetimeIndex(['2013-01-01', '2013-01-02', '2013-01-03', '2013-01-04',\n",
       "               '2013-01-05', '2013-01-06'],\n",
       "              dtype='datetime64[ns]', freq='D')"
      ]
     },
     "execution_count": 45,
     "metadata": {},
     "output_type": "execute_result"
    }
   ],
   "source": [
    "dates"
   ]
  },
  {
   "cell_type": "code",
   "execution_count": 46,
   "metadata": {},
   "outputs": [],
   "source": [
    "df2 = pd.DataFrame(\n",
    "    {\n",
    "        \"A\": 1.0,\n",
    "        \"B\": pd.Timestamp(\"20130102\"),\n",
    "        \"C\": pd.Series(1, index=list(range(4)), dtype=\"float32\"),\n",
    "        \"D\": np.array([3] * 4, dtype=\"int32\"),\n",
    "        \"E\": pd.Categorical([\"test\", \"train\", \"test\", \"train\"]),\n",
    "        \"F\": \"foo\",\n",
    "    }\n",
    ")"
   ]
  },
  {
   "cell_type": "code",
   "execution_count": 47,
   "metadata": {},
   "outputs": [
    {
     "data": {
      "text/html": [
       "<div>\n",
       "<style scoped>\n",
       "    .dataframe tbody tr th:only-of-type {\n",
       "        vertical-align: middle;\n",
       "    }\n",
       "\n",
       "    .dataframe tbody tr th {\n",
       "        vertical-align: top;\n",
       "    }\n",
       "\n",
       "    .dataframe thead th {\n",
       "        text-align: right;\n",
       "    }\n",
       "</style>\n",
       "<table border=\"1\" class=\"dataframe\">\n",
       "  <thead>\n",
       "    <tr style=\"text-align: right;\">\n",
       "      <th></th>\n",
       "      <th>A</th>\n",
       "      <th>B</th>\n",
       "      <th>C</th>\n",
       "      <th>D</th>\n",
       "      <th>E</th>\n",
       "      <th>F</th>\n",
       "    </tr>\n",
       "  </thead>\n",
       "  <tbody>\n",
       "    <tr>\n",
       "      <th>0</th>\n",
       "      <td>1.0</td>\n",
       "      <td>2013-01-02</td>\n",
       "      <td>1.0</td>\n",
       "      <td>3</td>\n",
       "      <td>test</td>\n",
       "      <td>foo</td>\n",
       "    </tr>\n",
       "    <tr>\n",
       "      <th>1</th>\n",
       "      <td>1.0</td>\n",
       "      <td>2013-01-02</td>\n",
       "      <td>1.0</td>\n",
       "      <td>3</td>\n",
       "      <td>train</td>\n",
       "      <td>foo</td>\n",
       "    </tr>\n",
       "    <tr>\n",
       "      <th>2</th>\n",
       "      <td>1.0</td>\n",
       "      <td>2013-01-02</td>\n",
       "      <td>1.0</td>\n",
       "      <td>3</td>\n",
       "      <td>test</td>\n",
       "      <td>foo</td>\n",
       "    </tr>\n",
       "    <tr>\n",
       "      <th>3</th>\n",
       "      <td>1.0</td>\n",
       "      <td>2013-01-02</td>\n",
       "      <td>1.0</td>\n",
       "      <td>3</td>\n",
       "      <td>train</td>\n",
       "      <td>foo</td>\n",
       "    </tr>\n",
       "  </tbody>\n",
       "</table>\n",
       "</div>"
      ],
      "text/plain": [
       "     A          B    C  D      E    F\n",
       "0  1.0 2013-01-02  1.0  3   test  foo\n",
       "1  1.0 2013-01-02  1.0  3  train  foo\n",
       "2  1.0 2013-01-02  1.0  3   test  foo\n",
       "3  1.0 2013-01-02  1.0  3  train  foo"
      ]
     },
     "execution_count": 47,
     "metadata": {},
     "output_type": "execute_result"
    }
   ],
   "source": [
    "df2"
   ]
  },
  {
   "cell_type": "code",
   "execution_count": 48,
   "metadata": {},
   "outputs": [],
   "source": [
    "from TodoDAO import TodoDAO\n",
    "dao = TodoDAO('todos_db.db')\n",
    "todos = dao.findAll()\n",
    "df_todos = pd.DataFrame(todos)"
   ]
  },
  {
   "cell_type": "code",
   "execution_count": 49,
   "metadata": {},
   "outputs": [
    {
     "data": {
      "text/plain": [
       "RangeIndex(start=0, stop=1995, step=1)"
      ]
     },
     "execution_count": 49,
     "metadata": {},
     "output_type": "execute_result"
    }
   ],
   "source": [
    "df_todos.index"
   ]
  },
  {
   "cell_type": "code",
   "execution_count": 50,
   "metadata": {},
   "outputs": [
    {
     "data": {
      "text/plain": [
       "Index(['id', 'title', 'completed'], dtype='object')"
      ]
     },
     "execution_count": 50,
     "metadata": {},
     "output_type": "execute_result"
    }
   ],
   "source": [
    "df_todos.columns"
   ]
  },
  {
   "cell_type": "code",
   "execution_count": 51,
   "metadata": {},
   "outputs": [
    {
     "data": {
      "text/plain": [
       "0                Karlsson Brothers (BrÃ¶derna Karlsson)\n",
       "1                                          Book of Love\n",
       "2       Reel Bad Arabs: How Hollywood Vilifies a People\n",
       "3                                              30 Beats\n",
       "4                 War of the Wildcats (In Old Oklahoma)\n",
       "                             ...                       \n",
       "1990                             Blue Spring (Aoi haru)\n",
       "1991                                    Sun Don t Shine\n",
       "1992                                        Tribulation\n",
       "1993              Xiu Xiu: The Sent-Down Girl (Tian yu)\n",
       "1994                   Stuff and Dough (Marfa si banii)\n",
       "Name: title, Length: 1995, dtype: object"
      ]
     },
     "execution_count": 51,
     "metadata": {},
     "output_type": "execute_result"
    }
   ],
   "source": [
    "df_todos['title']"
   ]
  },
  {
   "cell_type": "code",
   "execution_count": 52,
   "metadata": {},
   "outputs": [
    {
     "data": {
      "text/plain": [
       "id                             3996\n",
       "title        Blue Spring (Aoi haru)\n",
       "completed                         0\n",
       "Name: 1990, dtype: object"
      ]
     },
     "execution_count": 52,
     "metadata": {},
     "output_type": "execute_result"
    }
   ],
   "source": [
    "df_todos.loc[1990]"
   ]
  },
  {
   "cell_type": "code",
   "execution_count": 53,
   "metadata": {},
   "outputs": [
    {
     "data": {
      "text/plain": [
       "id                           2046\n",
       "title        Jingle All the Way 2\n",
       "completed                       0\n",
       "Name: 42, dtype: object"
      ]
     },
     "execution_count": 53,
     "metadata": {},
     "output_type": "execute_result"
    }
   ],
   "source": [
    "df_todos.iloc[42]"
   ]
  },
  {
   "cell_type": "code",
   "execution_count": 54,
   "metadata": {},
   "outputs": [
    {
     "data": {
      "text/html": [
       "<div>\n",
       "<style scoped>\n",
       "    .dataframe tbody tr th:only-of-type {\n",
       "        vertical-align: middle;\n",
       "    }\n",
       "\n",
       "    .dataframe tbody tr th {\n",
       "        vertical-align: top;\n",
       "    }\n",
       "\n",
       "    .dataframe thead th {\n",
       "        text-align: right;\n",
       "    }\n",
       "</style>\n",
       "<table border=\"1\" class=\"dataframe\">\n",
       "  <thead>\n",
       "    <tr style=\"text-align: right;\">\n",
       "      <th></th>\n",
       "      <th>id</th>\n",
       "      <th>title</th>\n",
       "      <th>completed</th>\n",
       "      <th>title majuscule</th>\n",
       "    </tr>\n",
       "  </thead>\n",
       "  <tbody>\n",
       "    <tr>\n",
       "      <th>0</th>\n",
       "      <td>2001</td>\n",
       "      <td>Karlsson Brothers (BrÃ¶derna Karlsson)</td>\n",
       "      <td>1</td>\n",
       "      <td>KARLSSON BROTHERS (BRÃ¶DERNA KARLSSON)</td>\n",
       "    </tr>\n",
       "    <tr>\n",
       "      <th>1</th>\n",
       "      <td>2002</td>\n",
       "      <td>Book of Love</td>\n",
       "      <td>1</td>\n",
       "      <td>BOOK OF LOVE</td>\n",
       "    </tr>\n",
       "    <tr>\n",
       "      <th>2</th>\n",
       "      <td>2006</td>\n",
       "      <td>Reel Bad Arabs: How Hollywood Vilifies a People</td>\n",
       "      <td>0</td>\n",
       "      <td>REEL BAD ARABS: HOW HOLLYWOOD VILIFIES A PEOPLE</td>\n",
       "    </tr>\n",
       "    <tr>\n",
       "      <th>3</th>\n",
       "      <td>2007</td>\n",
       "      <td>30 Beats</td>\n",
       "      <td>0</td>\n",
       "      <td>30 BEATS</td>\n",
       "    </tr>\n",
       "    <tr>\n",
       "      <th>4</th>\n",
       "      <td>2008</td>\n",
       "      <td>War of the Wildcats (In Old Oklahoma)</td>\n",
       "      <td>1</td>\n",
       "      <td>WAR OF THE WILDCATS (IN OLD OKLAHOMA)</td>\n",
       "    </tr>\n",
       "    <tr>\n",
       "      <th>...</th>\n",
       "      <td>...</td>\n",
       "      <td>...</td>\n",
       "      <td>...</td>\n",
       "      <td>...</td>\n",
       "    </tr>\n",
       "    <tr>\n",
       "      <th>1990</th>\n",
       "      <td>3996</td>\n",
       "      <td>Blue Spring (Aoi haru)</td>\n",
       "      <td>0</td>\n",
       "      <td>BLUE SPRING (AOI HARU)</td>\n",
       "    </tr>\n",
       "    <tr>\n",
       "      <th>1991</th>\n",
       "      <td>3997</td>\n",
       "      <td>Sun Don t Shine</td>\n",
       "      <td>1</td>\n",
       "      <td>SUN DON T SHINE</td>\n",
       "    </tr>\n",
       "    <tr>\n",
       "      <th>1992</th>\n",
       "      <td>3998</td>\n",
       "      <td>Tribulation</td>\n",
       "      <td>1</td>\n",
       "      <td>TRIBULATION</td>\n",
       "    </tr>\n",
       "    <tr>\n",
       "      <th>1993</th>\n",
       "      <td>3999</td>\n",
       "      <td>Xiu Xiu: The Sent-Down Girl (Tian yu)</td>\n",
       "      <td>0</td>\n",
       "      <td>XIU XIU: THE SENT-DOWN GIRL (TIAN YU)</td>\n",
       "    </tr>\n",
       "    <tr>\n",
       "      <th>1994</th>\n",
       "      <td>4000</td>\n",
       "      <td>Stuff and Dough (Marfa si banii)</td>\n",
       "      <td>0</td>\n",
       "      <td>STUFF AND DOUGH (MARFA SI BANII)</td>\n",
       "    </tr>\n",
       "  </tbody>\n",
       "</table>\n",
       "<p>1995 rows × 4 columns</p>\n",
       "</div>"
      ],
      "text/plain": [
       "        id                                            title  completed  \\\n",
       "0     2001           Karlsson Brothers (BrÃ¶derna Karlsson)          1   \n",
       "1     2002                                     Book of Love          1   \n",
       "2     2006  Reel Bad Arabs: How Hollywood Vilifies a People          0   \n",
       "3     2007                                         30 Beats          0   \n",
       "4     2008            War of the Wildcats (In Old Oklahoma)          1   \n",
       "...    ...                                              ...        ...   \n",
       "1990  3996                           Blue Spring (Aoi haru)          0   \n",
       "1991  3997                                  Sun Don t Shine          1   \n",
       "1992  3998                                      Tribulation          1   \n",
       "1993  3999            Xiu Xiu: The Sent-Down Girl (Tian yu)          0   \n",
       "1994  4000                 Stuff and Dough (Marfa si banii)          0   \n",
       "\n",
       "                                      title majuscule  \n",
       "0              KARLSSON BROTHERS (BRÃ¶DERNA KARLSSON)  \n",
       "1                                        BOOK OF LOVE  \n",
       "2     REEL BAD ARABS: HOW HOLLYWOOD VILIFIES A PEOPLE  \n",
       "3                                            30 BEATS  \n",
       "4               WAR OF THE WILDCATS (IN OLD OKLAHOMA)  \n",
       "...                                               ...  \n",
       "1990                           BLUE SPRING (AOI HARU)  \n",
       "1991                                  SUN DON T SHINE  \n",
       "1992                                      TRIBULATION  \n",
       "1993            XIU XIU: THE SENT-DOWN GIRL (TIAN YU)  \n",
       "1994                 STUFF AND DOUGH (MARFA SI BANII)  \n",
       "\n",
       "[1995 rows x 4 columns]"
      ]
     },
     "execution_count": 54,
     "metadata": {},
     "output_type": "execute_result"
    }
   ],
   "source": [
    "df_todos['title majuscule'] = df_todos[\"title\"].map(lambda v:v.upper())\n",
    "df_todos"
   ]
  }
 ],
 "metadata": {
  "kernelspec": {
   "display_name": "Python 3",
   "language": "python",
   "name": "python3"
  },
  "language_info": {
   "codemirror_mode": {
    "name": "ipython",
    "version": 3
   },
   "file_extension": ".py",
   "mimetype": "text/x-python",
   "name": "python",
   "nbconvert_exporter": "python",
   "pygments_lexer": "ipython3",
   "version": "3.11.5"
  },
  "orig_nbformat": 4
 },
 "nbformat": 4,
 "nbformat_minor": 2
}
